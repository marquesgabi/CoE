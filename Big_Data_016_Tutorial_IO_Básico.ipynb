{
  "nbformat": 4,
  "nbformat_minor": 0,
  "metadata": {
    "colab": {
      "provenance": [],
      "include_colab_link": true
    },
    "kernelspec": {
      "display_name": "Python 3",
      "name": "python3"
    }
  },
  "cells": [
    {
      "cell_type": "markdown",
      "metadata": {
        "id": "view-in-github",
        "colab_type": "text"
      },
      "source": [
        "<a href=\"https://colab.research.google.com/github/marquesgabi/CoE/blob/main/Big_Data_016_Tutorial_IO_B%C3%A1sico.ipynb\" target=\"_parent\"><img src=\"https://colab.research.google.com/assets/colab-badge.svg\" alt=\"Open In Colab\"/></a>"
      ]
    },
    {
      "cell_type": "markdown",
      "metadata": {
        "id": "DAN9SUofgUTd"
      },
      "source": [
        "**Instruções iniciais**\n",
        "\n",
        "*   Abra os links dos dados:\n",
        "    * https://tinyurl.com/bd-b3data\n",
        "    * https://tinyurl.com/bigdata-gut-pt\n",
        "*   Clique em \"Adicionar ao Drive\"\n",
        "\n",
        "*  [Formato de dados B3](https://drive.google.com/file/d/13dYeRVlJkusQjAwqw1JSmMylXbLTqCmt/view?usp=sharing)\n"
      ]
    },
    {
      "cell_type": "markdown",
      "source": [
        "# Acesso ao Drive"
      ],
      "metadata": {
        "id": "9U-l1MISuksu"
      }
    },
    {
      "cell_type": "code",
      "metadata": {
        "id": "h8FRMecFUk9d"
      },
      "source": [
        "from google.colab import drive\n",
        "drive.mount('/content/drive')"
      ],
      "execution_count": null,
      "outputs": []
    },
    {
      "cell_type": "markdown",
      "source": [
        "# I/O e comandos básicos\n",
        "\n",
        "* Células iniciadas com ! são executadas como comandos em um terminal\n",
        "* A maioria dos comandos básicos de terminal Unix está disponível no Colab\n"
      ],
      "metadata": {
        "id": "bn82ijorvgDs"
      }
    },
    {
      "cell_type": "code",
      "metadata": {
        "id": "-2f7zTcQSXMv"
      },
      "source": [
        "!ls \"/content/drive/My Drive/gut-pt/\""
      ],
      "execution_count": null,
      "outputs": []
    },
    {
      "cell_type": "code",
      "metadata": {
        "id": "G8TeB2aGUpsL"
      },
      "source": [
        "!ls \"/content/drive/My Drive/gut-pt/small\""
      ],
      "execution_count": null,
      "outputs": []
    },
    {
      "cell_type": "markdown",
      "source": [
        "## Exemplos de leitura com cat\n",
        "\n",
        "* O caractere * (wildcard ou curinga) indica sequência de qualquer caracteres\n",
        "* Note que no segundo exemplo, o wildcard (*) está fora das aspas duplas\n",
        "\n"
      ],
      "metadata": {
        "id": "JbvU6DjuWZd2"
      }
    },
    {
      "cell_type": "code",
      "metadata": {
        "id": "YKWZ0g7wUtJg"
      },
      "source": [
        "!cat \"/content/drive/My Drive/gut-pt/all/u-54829-8\""
      ],
      "execution_count": null,
      "outputs": []
    },
    {
      "cell_type": "code",
      "metadata": {
        "id": "Mr_GU9-uWtwW"
      },
      "source": [
        "!cat \"/content/drive/My Drive/gut-pt/small\"/*"
      ],
      "execution_count": null,
      "outputs": []
    },
    {
      "cell_type": "code",
      "metadata": {
        "id": "DUYwwDVzYr72"
      },
      "source": [
        "!ls /content/drive/My\\ Drive/gut-pt/small"
      ],
      "execution_count": null,
      "outputs": []
    },
    {
      "cell_type": "code",
      "metadata": {
        "id": "HbKYh3xPZQQ9"
      },
      "source": [
        "!ln -s \"/content/drive/My Drive/gut-pt/small\" /content/"
      ],
      "execution_count": null,
      "outputs": []
    },
    {
      "cell_type": "code",
      "metadata": {
        "id": "hN1WXLzpZv46"
      },
      "source": [
        "!ls -ls /content/"
      ],
      "execution_count": null,
      "outputs": []
    },
    {
      "cell_type": "code",
      "metadata": {
        "id": "b1V4nSHwbhp3"
      },
      "source": [
        "!wc /content/small/u-54829-8"
      ],
      "execution_count": null,
      "outputs": []
    },
    {
      "cell_type": "markdown",
      "source": [
        "## Comunicação entre processos\n",
        "\n",
        "* A saída do cat pode ser redirecionada para outro processo com um pipe (|)\n",
        "* Exemplo: busca de padrões com grep\n",
        "  * Cat envia o conteúdo do arquivo para a saída padrão\n",
        "  * Grep recebe os dados na entrada padrão\n",
        "  * Grep procura pelo padrão “Braz” em cada linha de entrada\n",
        "  * Grep direciona para a saída somente as linhas que contém o padrão\n"
      ],
      "metadata": {
        "id": "QzcOKOFqXIYZ"
      }
    },
    {
      "cell_type": "code",
      "metadata": {
        "id": "s6BmF4SPeFin"
      },
      "source": [
        "!cat /content/small/u-54829-8 | grep \"Braz\""
      ],
      "execution_count": null,
      "outputs": []
    },
    {
      "cell_type": "markdown",
      "source": [
        "* É possível encadear múltiplos pipes (|)\n",
        "* Exemplo: quantas linhas do arquivo contém “Braz”\n",
        "\n",
        "  * Cat lê o arquivo\n",
        "  * Grep filtra as linhas com Braz\n",
        "  * wc conta as linhas resultantes do grep\n",
        "\n"
      ],
      "metadata": {
        "id": "iy_rfHrKXarw"
      }
    },
    {
      "cell_type": "code",
      "metadata": {
        "id": "I0KgMpIyfdO0"
      },
      "source": [
        "!cat /content/small/u-54829-8 | grep \"Braz\" | wc"
      ],
      "execution_count": null,
      "outputs": []
    },
    {
      "cell_type": "code",
      "metadata": {
        "id": "A4TDZcktpfUa"
      },
      "source": [
        "!cat /content/small/u-54829-8 | grep \"Quincas\" | wc"
      ],
      "execution_count": null,
      "outputs": []
    },
    {
      "cell_type": "markdown",
      "source": [
        "## Links\n",
        "\n",
        "* Vamos criar um \"atalho\" (link) para os arquivos no diretório base do Colab para simplificar os comandos\n",
        "* O caminho \"/content/b3\" agora aponta para o diretório do pacote de dados\n",
        "* Podemos acessar os arquivos diretamente pelo atalho\n",
        "\n"
      ],
      "metadata": {
        "id": "5LQorrevWldf"
      }
    },
    {
      "cell_type": "code",
      "source": [
        "!ls \"/content/drive/My Drive/\""
      ],
      "metadata": {
        "id": "qwHmOfFyX7MT"
      },
      "execution_count": null,
      "outputs": []
    },
    {
      "cell_type": "code",
      "source": [
        "!ln -s \"/content/drive/My Drive/b3\" /content/"
      ],
      "metadata": {
        "id": "2syRDXW-rWcl"
      },
      "execution_count": null,
      "outputs": []
    },
    {
      "cell_type": "code",
      "source": [
        "!ls -la b3"
      ],
      "metadata": {
        "id": "VU2GSkqgrZrb"
      },
      "execution_count": null,
      "outputs": []
    },
    {
      "cell_type": "code",
      "source": [
        "!wc \"/content/drive/My Drive/b3/COTAHIST.A1995.TXT\""
      ],
      "metadata": {
        "id": "oa0tzJ8asA7M"
      },
      "execution_count": null,
      "outputs": []
    },
    {
      "cell_type": "code",
      "source": [
        "!ls /content/b3/"
      ],
      "metadata": {
        "id": "JMNSli5PsBc9"
      },
      "execution_count": null,
      "outputs": []
    },
    {
      "cell_type": "markdown",
      "source": [
        "# Abertura de arquivos e leitura de dados\n",
        "\n",
        "* Vamos criar uma lista com os arquivos no diretório b3"
      ],
      "metadata": {
        "id": "CT6jS2aLsEAl"
      }
    },
    {
      "cell_type": "code",
      "metadata": {
        "id": "csJzHrGzhGDA"
      },
      "source": [
        "import os\n",
        "import glob\n",
        "\n",
        "filenames = glob.glob(\"/content/b3/*TXT\")"
      ],
      "execution_count": null,
      "outputs": []
    },
    {
      "cell_type": "code",
      "metadata": {
        "id": "n7NYonXIhWh4"
      },
      "source": [
        "print(filenames)"
      ],
      "execution_count": null,
      "outputs": []
    },
    {
      "cell_type": "markdown",
      "source": [
        "## Leitura de arquivos inteiros\n",
        "\n",
        "* Arquivo é aberto com open\n",
        "* Leitura dos dados (arquivo inteiro)\n",
        "* Arquivo é fechado com close\n"
      ],
      "metadata": {
        "id": "o15e3gPMuLLj"
      }
    },
    {
      "cell_type": "code",
      "metadata": {
        "id": "coQLK2ewhZsT"
      },
      "source": [
        "for filename in filenames :\n",
        "    f = open(filename, encoding='utf-8', errors='ignore')\n",
        "    contents = f.readlines()\n",
        "    f.close()\n",
        "    print(filename,\"tem\",len(contents),\"linhas\")"
      ],
      "execution_count": null,
      "outputs": []
    },
    {
      "cell_type": "markdown",
      "source": [
        "## Leitura linha-a-linha\n",
        "\n",
        "* É possível ler os conteúdos de um arquivo uma linha por vez\n",
        "  * Método readline retorna uma linha ou None\n",
        "  * Loop é interrompido quando None é retornado\n"
      ],
      "metadata": {
        "id": "56lDKBoNsUUk"
      }
    },
    {
      "cell_type": "code",
      "source": [
        "filename = \"/content/small/u-54829-8\"\n",
        "f = open(filename, encoding='utf-8', errors='ignore')\n",
        "while True :\n",
        "  line = f.readline()\n",
        "  if not line :\n",
        "    break\n",
        "  words = line.split()\n",
        "  print(len(words), words)\n",
        "f.close()\n"
      ],
      "metadata": {
        "id": "54L_0ZYFsPpT"
      },
      "execution_count": null,
      "outputs": []
    },
    {
      "cell_type": "code",
      "source": [
        "# Função para contagem de palavras em um arquivo\n",
        "\n",
        "def wordcount(filename) :\n",
        "  f = open(filename, encoding='utf-8', errors='ignore')\n",
        "  lines = f.readlines()\n",
        "  nwords = 0\n",
        "  for line in lines :\n",
        "    words = line.split()\n",
        "    nwords = nwords + len(words)\n",
        "  f.close()\n",
        "  print(filename, nwords)\n",
        "  return nwords"
      ],
      "metadata": {
        "id": "uHQKs05Usl5z"
      },
      "execution_count": null,
      "outputs": []
    },
    {
      "cell_type": "code",
      "source": [
        "wordcount(\"/content/small/u-54829-8\")"
      ],
      "metadata": {
        "id": "VC_y12PLsnbk"
      },
      "execution_count": null,
      "outputs": []
    },
    {
      "cell_type": "markdown",
      "source": [
        "## Leitura da entrada padrão\n",
        "\n",
        "* No lugar de arquivos, é possível acessar dados (texto) diretamente da entrada padrão\n",
        "* Equivalente ao scanf de C\n",
        "\n",
        "\n",
        "* Vamos executar o script pela linha de comando\n",
        "  * %%file indica uma célula que deve ser salva em arquivo (e não executada diretamente)\n",
        "\n",
        "*  Arquivos podem ser lidos com cat e direcionados para o script com um pipe (|)\n"
      ],
      "metadata": {
        "id": "J8K39qPdscpq"
      }
    },
    {
      "cell_type": "code",
      "source": [
        "%%file leitor.py\n",
        "\n",
        "import sys\n",
        "import re\n",
        "\n",
        "nwords = 0\n",
        "\n",
        "for line in sys.stdin:\n",
        "  words = line.split()\n",
        "  nwords = nwords + len(words)\n",
        "\n",
        "print(\"total: \", nwords, \" linhas\")"
      ],
      "metadata": {
        "id": "iZM6ORVTscB5"
      },
      "execution_count": null,
      "outputs": []
    },
    {
      "cell_type": "code",
      "source": [
        "!cat leitor.py"
      ],
      "metadata": {
        "id": "tPZY3gnO5wvI"
      },
      "execution_count": null,
      "outputs": []
    },
    {
      "cell_type": "code",
      "source": [
        "!cat \"/content/small/u-54829-8\" | python leitor.py"
      ],
      "metadata": {
        "id": "2hAl55qbtT-E"
      },
      "execution_count": null,
      "outputs": []
    },
    {
      "cell_type": "markdown",
      "source": [
        "# Perfilamento Básico\n",
        "\n",
        "* Vamos determinar quanto tempo cada parte do script está levando\n",
        "  * Exemplo: tempo para  I/O de arquivo\n"
      ],
      "metadata": {
        "id": "CIFa8SATuFaD"
      }
    },
    {
      "cell_type": "code",
      "metadata": {
        "id": "EmR5_Pu7TmY_"
      },
      "source": [
        "import time\n",
        "\n",
        "for filename in filenames :\n",
        "    start = time.time()\n",
        "    f = open(filename, encoding='utf-8', errors='ignore')\n",
        "    contents = f.readlines()\n",
        "    f.close()\n",
        "    done = time.time()\n",
        "    print(filename,\"foi lido em\",done-start,\"segundos\")"
      ],
      "execution_count": null,
      "outputs": []
    },
    {
      "cell_type": "markdown",
      "source": [
        "# Atividade: Processamento de Campos e Perfilamento\n",
        "\n",
        "* Escreva uma função que, para cada linha de dados, separe os campos de acordo com o formato dos arquivos\n",
        " * https://tinyurl.com/bd-b3data\n",
        " * Formato de dados: Arquivo \"SeriesHistoricas_Layout.pdf\"\n",
        "\n",
        "* Versão avançada: descubra o papel com maior valor de fechamento para cada ano/arquivo\n",
        "* Versão (mais) avançada: descubra o maior valor de fechamento para cada papel\n"
      ],
      "metadata": {
        "id": "5GtS1bUozPzo"
      }
    },
    {
      "cell_type": "code",
      "metadata": {
        "id": "vU5Cec3mzvSf"
      },
      "source": [
        "def process_file(filename) :\n",
        "  start = time.time()\n",
        "  f = open(filename, encoding='utf-8', errors='ignore')\n",
        "  contents = f.readlines()\n",
        "  for line in contents :\n",
        "    tipo = line[0:2]\n",
        "    if tipo == '01' :\n",
        "      dia = line[2:10]\n",
        "      codneg = line[12:24]\n",
        "      preabe = float(line[56:69])/100\n",
        "      premax = float(line[69:82])/100\n",
        "      premin = float(line[82:95])/100\n",
        "      preult = float(line[108:121])/100\n",
        "  f.close()\n",
        "  done = time.time()\n",
        "  return done - start\n"
      ],
      "execution_count": null,
      "outputs": []
    },
    {
      "cell_type": "code",
      "metadata": {
        "id": "ZLTQMuUxhvHz"
      },
      "source": [
        "import time\n",
        "\n",
        "total_start = time.time()\n",
        "\n",
        "for filename in filenames :\n",
        "    t = process_file(filename)\n",
        "    print(\"time: \",t)\n",
        "\n",
        "total_done = time.time()\n",
        "\n",
        "print(\"total processing time: \",total_done - total_start)"
      ],
      "execution_count": null,
      "outputs": []
    },
    {
      "cell_type": "code",
      "metadata": {
        "id": "wPXfEbsK8TOM"
      },
      "source": [
        "from multiprocessing import Pool\n",
        "\n",
        "total_start = time.time()\n",
        "\n",
        "pool = Pool(processes=2)\n",
        "res = pool.imap_unordered(process_file, filenames)\n",
        "\n",
        "for r in res :\n",
        "    print(\"time:\", r)\n",
        "\n",
        "total_done = time.time()\n",
        "print(\"total processing time: \",total_done - total_start)\n"
      ],
      "execution_count": null,
      "outputs": []
    },
    {
      "cell_type": "code",
      "metadata": {
        "id": "9yvnXxDgWPG1"
      },
      "source": [
        "drive.flush_and_unmount()\n"
      ],
      "execution_count": null,
      "outputs": []
    }
  ]
}