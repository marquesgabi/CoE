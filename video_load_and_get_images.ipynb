{
  "nbformat": 4,
  "nbformat_minor": 0,
  "metadata": {
    "colab": {
      "provenance": [],
      "include_colab_link": true
    },
    "kernelspec": {
      "name": "python3",
      "display_name": "Python 3"
    },
    "language_info": {
      "name": "python"
    }
  },
  "cells": [
    {
      "cell_type": "markdown",
      "metadata": {
        "id": "view-in-github",
        "colab_type": "text"
      },
      "source": [
        "<a href=\"https://colab.research.google.com/github/marquesgabi/CoE/blob/main/video_load_and_get_images.ipynb\" target=\"_parent\"><img src=\"https://colab.research.google.com/assets/colab-badge.svg\" alt=\"Open In Colab\"/></a>"
      ]
    },
    {
      "cell_type": "code",
      "execution_count": 1,
      "metadata": {
        "id": "o6xh1CH6bWTU"
      },
      "outputs": [],
      "source": [
        "import cv2\n",
        "from google.colab.patches import cv2_imshow"
      ]
    },
    {
      "cell_type": "code",
      "source": [
        "#!gdown 1mx3LUdeFO1-KFzClhFVwu71KWM3-s1hO\n",
        "!gdown 1UhWSL5dKLO_9RUslebu20TLl2a_Y1Hf0/view?usp=share_link"
      ],
      "metadata": {
        "colab": {
          "base_uri": "https://localhost:8080/"
        },
        "id": "DO6tkcLob6lL",
        "outputId": "d929a217-8dbb-402c-aee7-d6d564a0cda8"
      },
      "execution_count": 2,
      "outputs": [
        {
          "output_type": "stream",
          "name": "stdout",
          "text": [
            "Access denied with the following error:\n",
            "\n",
            " \tCannot retrieve the public link of the file. You may need to change\n",
            "\tthe permission to 'Anyone with the link', or have had many accesses. \n",
            "\n",
            "You may still be able to access the file from the browser:\n",
            "\n",
            "\t https://drive.google.com/uc?id=1UhWSL5dKLO_9RUslebu20TLl2a_Y1Hf0/view?usp=share_link \n",
            "\n"
          ]
        }
      ]
    },
    {
      "cell_type": "code",
      "source": [
        "name_video = 'VideoN1.avi'\n",
        "cap = cv2.VideoCapture(name_video)\n",
        "cont = 0 \n",
        "filtro =  100\n",
        "if cap.isOpened() == False:\n",
        "  print('video not found')\n",
        "\n",
        "while cap.isOpened():\n",
        "  cont = cont + 1\n",
        "  ret,frame =cap.read()\n",
        "\n",
        "  if ret == True:\n",
        "    if(cont % filtro == 0):\n",
        "      cv2_imshow(frame)\n",
        "\n",
        "    if cv2.waitKey(10) & 0xFF == ord('q'):\n",
        "      break\n",
        "  else:\n",
        "    break\n",
        "\n",
        "\n",
        "cap.release()\n",
        "cv2.destroyAllWindows()"
      ],
      "metadata": {
        "colab": {
          "base_uri": "https://localhost:8080/"
        },
        "id": "rh1XIratcnIc",
        "outputId": "47792ea1-991d-45b1-e95b-1195befae469"
      },
      "execution_count": 3,
      "outputs": [
        {
          "output_type": "stream",
          "name": "stdout",
          "text": [
            "video not found\n"
          ]
        }
      ]
    },
    {
      "cell_type": "code",
      "source": [],
      "metadata": {
        "id": "uGUc5pb0gbq5"
      },
      "execution_count": 3,
      "outputs": []
    },
    {
      "cell_type": "code",
      "source": [],
      "metadata": {
        "id": "hRgxFmeGfpbQ"
      },
      "execution_count": 3,
      "outputs": []
    }
  ]
}